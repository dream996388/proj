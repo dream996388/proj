{
  "cells": [
    {
      "cell_type": "markdown",
      "metadata": {
        "id": "IhsasZUr4ViW"
      },
      "source": [
        "## install paddle"
      ]
    },
    {
      "cell_type": "code",
      "execution_count": null,
      "metadata": {
        "colab": {
          "base_uri": "https://localhost:8080/"
        },
        "id": "0zFjqzmi4ViX",
        "outputId": "3514fc50-4a3e-4553-905b-d08a06115556"
      },
      "outputs": [
        {
          "name": "stdout",
          "output_type": "stream",
          "text": [
            "Looking in indexes: https://pypi.org/simple, https://us-python.pkg.dev/colab-wheels/public/simple/\n",
            "Collecting paddlepaddle-gpu\n",
            "  Downloading paddlepaddle_gpu-2.3.1-cp37-cp37m-manylinux1_x86_64.whl (393.8 MB)\n",
            "\u001b[K     |████████████████████████████████| 393.8 MB 26 kB/s \n",
            "\u001b[?25hRequirement already satisfied: decorator in /usr/local/lib/python3.7/dist-packages (from paddlepaddle-gpu) (4.4.2)\n",
            "Requirement already satisfied: numpy>=1.13 in /usr/local/lib/python3.7/dist-packages (from paddlepaddle-gpu) (1.21.6)\n",
            "Collecting paddle-bfloat==0.1.7\n",
            "  Downloading paddle_bfloat-0.1.7-cp37-cp37m-manylinux_2_17_x86_64.manylinux2014_x86_64.whl (394 kB)\n",
            "\u001b[K     |████████████████████████████████| 394 kB 51.6 MB/s \n",
            "\u001b[?25hRequirement already satisfied: protobuf<=3.20.0,>=3.1.0 in /usr/local/lib/python3.7/dist-packages (from paddlepaddle-gpu) (3.17.3)\n",
            "Requirement already satisfied: opt-einsum==3.3.0 in /usr/local/lib/python3.7/dist-packages (from paddlepaddle-gpu) (3.3.0)\n",
            "Requirement already satisfied: requests>=2.20.0 in /usr/local/lib/python3.7/dist-packages (from paddlepaddle-gpu) (2.23.0)\n",
            "Requirement already satisfied: six in /usr/local/lib/python3.7/dist-packages (from paddlepaddle-gpu) (1.15.0)\n",
            "Requirement already satisfied: astor in /usr/local/lib/python3.7/dist-packages (from paddlepaddle-gpu) (0.8.1)\n",
            "Requirement already satisfied: Pillow in /usr/local/lib/python3.7/dist-packages (from paddlepaddle-gpu) (7.1.2)\n",
            "Requirement already satisfied: idna<3,>=2.5 in /usr/local/lib/python3.7/dist-packages (from requests>=2.20.0->paddlepaddle-gpu) (2.10)\n",
            "Requirement already satisfied: chardet<4,>=3.0.2 in /usr/local/lib/python3.7/dist-packages (from requests>=2.20.0->paddlepaddle-gpu) (3.0.4)\n",
            "Requirement already satisfied: urllib3!=1.25.0,!=1.25.1,<1.26,>=1.21.1 in /usr/local/lib/python3.7/dist-packages (from requests>=2.20.0->paddlepaddle-gpu) (1.24.3)\n",
            "Requirement already satisfied: certifi>=2017.4.17 in /usr/local/lib/python3.7/dist-packages (from requests>=2.20.0->paddlepaddle-gpu) (2022.6.15)\n",
            "Installing collected packages: paddle-bfloat, paddlepaddle-gpu\n",
            "Successfully installed paddle-bfloat-0.1.7 paddlepaddle-gpu-2.3.1\n",
            "Looking in indexes: https://pypi.org/simple, https://us-python.pkg.dev/colab-wheels/public/simple/\n",
            "Collecting paddleseg\n",
            "  Downloading paddleseg-2.6.0-py3-none-any.whl (321 kB)\n",
            "\u001b[K     |████████████████████████████████| 321 kB 33.0 MB/s \n",
            "\u001b[?25hRequirement already satisfied: filelock in /usr/local/lib/python3.7/dist-packages (from paddleseg) (3.7.1)\n",
            "Collecting pyyaml>=5.1\n",
            "  Downloading PyYAML-6.0-cp37-cp37m-manylinux_2_5_x86_64.manylinux1_x86_64.manylinux_2_12_x86_64.manylinux2010_x86_64.whl (596 kB)\n",
            "\u001b[K     |████████████████████████████████| 596 kB 57.8 MB/s \n",
            "\u001b[?25hRequirement already satisfied: tqdm in /usr/local/lib/python3.7/dist-packages (from paddleseg) (4.64.0)\n",
            "Collecting visualdl>=2.0.0\n",
            "  Downloading visualdl-2.3.0-py3-none-any.whl (2.8 MB)\n",
            "\u001b[K     |████████████████████████████████| 2.8 MB 54.8 MB/s \n",
            "\u001b[?25hRequirement already satisfied: prettytable in /usr/local/lib/python3.7/dist-packages (from paddleseg) (3.3.0)\n",
            "Requirement already satisfied: opencv-python in /usr/local/lib/python3.7/dist-packages (from paddleseg) (4.6.0.66)\n",
            "Requirement already satisfied: scipy in /usr/local/lib/python3.7/dist-packages (from paddleseg) (1.7.3)\n",
            "Requirement already satisfied: sklearn in /usr/local/lib/python3.7/dist-packages (from paddleseg) (0.0)\n",
            "Requirement already satisfied: Pillow>=7.0.0 in /usr/local/lib/python3.7/dist-packages (from visualdl>=2.0.0->paddleseg) (7.1.2)\n",
            "Requirement already satisfied: pandas in /usr/local/lib/python3.7/dist-packages (from visualdl>=2.0.0->paddleseg) (1.3.5)\n",
            "Collecting bce-python-sdk\n",
            "  Downloading bce_python_sdk-0.8.74-py3-none-any.whl (204 kB)\n",
            "\u001b[K     |████████████████████████████████| 204 kB 63.8 MB/s \n",
            "\u001b[?25hRequirement already satisfied: numpy in /usr/local/lib/python3.7/dist-packages (from visualdl>=2.0.0->paddleseg) (1.21.6)\n",
            "Requirement already satisfied: matplotlib in /usr/local/lib/python3.7/dist-packages (from visualdl>=2.0.0->paddleseg) (3.2.2)\n",
            "Requirement already satisfied: flask>=1.1.1 in /usr/local/lib/python3.7/dist-packages (from visualdl>=2.0.0->paddleseg) (1.1.4)\n",
            "Requirement already satisfied: protobuf>=3.11.0 in /usr/local/lib/python3.7/dist-packages (from visualdl>=2.0.0->paddleseg) (3.17.3)\n",
            "Requirement already satisfied: requests in /usr/local/lib/python3.7/dist-packages (from visualdl>=2.0.0->paddleseg) (2.23.0)\n",
            "Collecting Flask-Babel>=1.0.0\n",
            "  Downloading Flask_Babel-2.0.0-py3-none-any.whl (9.3 kB)\n",
            "Requirement already satisfied: six>=1.14.0 in /usr/local/lib/python3.7/dist-packages (from visualdl>=2.0.0->paddleseg) (1.15.0)\n",
            "Requirement already satisfied: click<8.0,>=5.1 in /usr/local/lib/python3.7/dist-packages (from flask>=1.1.1->visualdl>=2.0.0->paddleseg) (7.1.2)\n",
            "Requirement already satisfied: Werkzeug<2.0,>=0.15 in /usr/local/lib/python3.7/dist-packages (from flask>=1.1.1->visualdl>=2.0.0->paddleseg) (1.0.1)\n",
            "Requirement already satisfied: Jinja2<3.0,>=2.10.1 in /usr/local/lib/python3.7/dist-packages (from flask>=1.1.1->visualdl>=2.0.0->paddleseg) (2.11.3)\n",
            "Requirement already satisfied: itsdangerous<2.0,>=0.24 in /usr/local/lib/python3.7/dist-packages (from flask>=1.1.1->visualdl>=2.0.0->paddleseg) (1.1.0)\n",
            "Requirement already satisfied: Babel>=2.3 in /usr/local/lib/python3.7/dist-packages (from Flask-Babel>=1.0.0->visualdl>=2.0.0->paddleseg) (2.10.3)\n",
            "Requirement already satisfied: pytz in /usr/local/lib/python3.7/dist-packages (from Flask-Babel>=1.0.0->visualdl>=2.0.0->paddleseg) (2022.1)\n",
            "Requirement already satisfied: MarkupSafe>=0.23 in /usr/local/lib/python3.7/dist-packages (from Jinja2<3.0,>=2.10.1->flask>=1.1.1->visualdl>=2.0.0->paddleseg) (2.0.1)\n",
            "Requirement already satisfied: future>=0.6.0 in /usr/local/lib/python3.7/dist-packages (from bce-python-sdk->visualdl>=2.0.0->paddleseg) (0.16.0)\n"
          ]
        }
      ],
      "source": [
        "!pip install paddlepaddle-gpu\n",
        "!pip install paddleseg"
      ]
    },
    {
      "cell_type": "markdown",
      "metadata": {
        "id": "7M3lU0xe4ViY"
      },
      "source": [
        "## install code and data"
      ]
    },
    {
      "cell_type": "code",
      "execution_count": null,
      "metadata": {
        "id": "m1jIOS0v4ViZ"
      },
      "outputs": [],
      "source": [
        "!git clone https://github.com/dream996388/proj.git\n",
        "%cd /content/proj/PaddleSeg\n",
        "\n"
      ]
    },
    {
      "cell_type": "markdown",
      "metadata": {
        "id": "jHehYz4N4ViZ"
      },
      "source": [
        "## train"
      ]
    },
    {
      "cell_type": "code",
      "execution_count": null,
      "metadata": {
        "id": "pUmCpMbJ4ViZ"
      },
      "outputs": [],
      "source": [
        "!python3 train.py --config configs/quick_start/latest.yml --do_eval --use_vdl --save_interval 500 --save_dir output  --seed 999\n",
        "\n",
        "\n",
        "\n",
        "\n",
        "\n"
      ]
    },
    {
      "cell_type": "markdown",
      "metadata": {
        "id": "4DBdNXsY4Via"
      },
      "source": [
        "## predict"
      ]
    },
    {
      "cell_type": "code",
      "execution_count": null,
      "metadata": {
        "id": "bjI1cN9T4Via"
      },
      "outputs": [],
      "source": [
        "!python predict.py \\\n",
        "       --config configs/quick_start/latest.yml \\\n",
        "       --model_path output/best_model/model.pdparams \\\n",
        "       --image_path /content/proj/PaddleSeg/custom_dataset/latest/test_list.txt \\\n",
        "       --save_dir output/result \\\n",
        "       --custom_color 0 0 0 255 255 255\n",
        "\n",
        "!python predict.py \\\n",
        "       --config configs/quick_start/latest.yml \\\n",
        "       --model_path output/best_model/model.pdparams \\\n",
        "       --image_path /content/proj/PaddleSeg/custom_dataset/latest/train_list.txt \\\n",
        "       --save_dir output/result \\\n",
        "       --custom_color 0 0 0 255 255 255\n",
        "\n",
        "!python predict.py \\\n",
        "       --config configs/quick_start/latest.yml \\\n",
        "       --model_path output/best_model/model.pdparams \\\n",
        "       --image_path /content/proj/PaddleSeg/custom_dataset/latest/val_list.txt \\\n",
        "       --save_dir output/result \\\n",
        "       --custom_color 0 0 0 255 255 255"
      ]
    },
    {
      "cell_type": "markdown",
      "metadata": {
        "id": "TA82leYB4Via"
      },
      "source": [
        "## zip train result"
      ]
    },
    {
      "cell_type": "code",
      "execution_count": null,
      "metadata": {
        "id": "XvjGzt0-4Vib"
      },
      "outputs": [],
      "source": [
        "!zip -r train_output.zip /content/proj/PaddleSeg/output"
      ]
    },
    {
      "cell_type": "markdown",
      "metadata": {
        "id": "T-HupsU14Vib"
      },
      "source": [
        "## move .zip to my gdrive"
      ]
    },
    {
      "cell_type": "code",
      "execution_count": null,
      "metadata": {
        "id": "SnkHiHNR4Vib"
      },
      "outputs": [],
      "source": [
        "from google.colab import drive\n",
        "drive.mount('/content/gdrive')\n",
        "!mv /content/proj/PaddleSeg/train_output.zip /content/gdrive/MyDrive\n"
      ]
    }
  ],
  "metadata": {
    "accelerator": "GPU",
    "colab": {
      "name": "main.ipynb",
      "provenance": []
    },
    "gpuClass": "standard",
    "kernelspec": {
      "display_name": "Python 3.7.13",
      "language": "python",
      "name": "python3"
    },
    "language_info": {
      "name": "python",
      "version": "3.7.13"
    },
    "orig_nbformat": 4,
    "vscode": {
      "interpreter": {
        "hash": "e5038e1c7e2bbc469a24836e4e46f850f0df614c4b7e67082d0d2981366393c1"
      }
    }
  },
  "nbformat": 4,
  "nbformat_minor": 0
}
