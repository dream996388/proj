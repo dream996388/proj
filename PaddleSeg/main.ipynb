{
 "cells": [
  {
   "cell_type": "code",
   "execution_count": null,
   "metadata": {},
   "outputs": [],
   "source": [
    "!pip install paddlepaddle-gpu\n",
    "!pip install paddleseg"
   ]
  },
  {
   "cell_type": "code",
   "execution_count": null,
   "metadata": {},
   "outputs": [],
   "source": [
    "!git clone https://github.com/dream996388/proj.git\n",
    "%cd /content/proj/PaddleSeg\n",
    "\n"
   ]
  },
  {
   "cell_type": "code",
   "execution_count": null,
   "metadata": {},
   "outputs": [],
   "source": [
    "!python3 train.py --config configs/quick_start/latest.yml --do_eval --use_vdl --save_interval 500 --save_dir output  --seed 999\n",
    "\n",
    "\n",
    "\n",
    "\n",
    "\n"
   ]
  },
  {
   "cell_type": "code",
   "execution_count": null,
   "metadata": {},
   "outputs": [],
   "source": [
    "!python predict.py \\\n",
    "       --config configs/quick_start/latest.yml \\\n",
    "       --model_path output/best_model/model.pdparams \\\n",
    "       --image_path /content/proj/PaddleSeg/custom_dataset/latest/test_list.txt \\\n",
    "       --save_dir output/result \\\n",
    "       --custom_color 0 0 0 255 255 255\n",
    "\n",
    "!python predict.py \\\n",
    "       --config configs/quick_start/latest.yml \\\n",
    "       --model_path output/best_model/model.pdparams \\\n",
    "       --image_path /content/proj/PaddleSeg/custom_dataset/latest/train_list.txt \\\n",
    "       --save_dir output/result \\\n",
    "       --custom_color 0 0 0 255 255 255\n",
    "\n",
    "!python predict.py \\\n",
    "       --config configs/quick_start/latest.yml \\\n",
    "       --model_path output/best_model/model.pdparams \\\n",
    "       --image_path /content/proj/PaddleSeg/custom_dataset/latest/val_list.txt \\\n",
    "       --save_dir output/result \\\n",
    "       --custom_color 0 0 0 255 255 255"
   ]
  },
  {
   "cell_type": "code",
   "execution_count": null,
   "metadata": {},
   "outputs": [],
   "source": [
    "!zip -r train_output.zip /content/proj/PaddleSeg/output"
   ]
  },
  {
   "cell_type": "code",
   "execution_count": null,
   "metadata": {},
   "outputs": [],
   "source": [
    "from google.colab import drive\n",
    "drive.mount('/content/gdrive')\n",
    "!mv /content/proj/PaddleSeg/train_output.zip /content/gdrive/MyDrive\n"
   ]
  }
 ],
 "metadata": {
  "kernelspec": {
   "display_name": "Python 3.7.13",
   "language": "python",
   "name": "python3"
  },
  "language_info": {
   "name": "python",
   "version": "3.7.13"
  },
  "orig_nbformat": 4,
  "vscode": {
   "interpreter": {
    "hash": "e5038e1c7e2bbc469a24836e4e46f850f0df614c4b7e67082d0d2981366393c1"
   }
  }
 },
 "nbformat": 4,
 "nbformat_minor": 2
}
