{
  "cells": [
    {
      "cell_type": "markdown",
      "metadata": {
        "id": "IhsasZUr4ViW"
      },
      "source": [
        "## install paddle"
      ]
    },
    {
      "cell_type": "code",
      "execution_count": null,
      "metadata": {
        "colab": {
          "base_uri": "https://localhost:8080/"
        },
        "id": "0zFjqzmi4ViX",
        "outputId": "3514fc50-4a3e-4553-905b-d08a06115556"
      },
      "outputs": [],
      "source": [
        "from google.colab import drive\n",
        "drive.mount('/content/gdrive')\n",
        "!pip install paddlepaddle-gpu\n",
        "!pip install paddleseg"
      ]
    },
    {
      "cell_type": "markdown",
      "metadata": {
        "id": "7M3lU0xe4ViY"
      },
      "source": [
        "## install code and data"
      ]
    },
    {
      "cell_type": "code",
      "execution_count": null,
      "metadata": {
        "id": "m1jIOS0v4ViZ"
      },
      "outputs": [],
      "source": [
        "!git clone https://github.com/dream996388/proj.git\n",
        "%cd /content/proj/PaddleSeg\n",
        "\n"
      ]
    },
    {
      "cell_type": "markdown",
      "metadata": {
        "id": "jHehYz4N4ViZ"
      },
      "source": [
        "## train"
      ]
    },
    {
      "cell_type": "code",
      "execution_count": null,
      "metadata": {
        "id": "pUmCpMbJ4ViZ"
      },
      "outputs": [],
      "source": [
        "!python3 train.py --config configs/quick_start/latest.yml --do_eval --use_vdl --save_interval 500 --save_dir output  --seed 999\n",
        "\n",
        "\n",
        "\n",
        "\n",
        "\n"
      ]
    },
    {
      "cell_type": "markdown",
      "metadata": {
        "id": "4DBdNXsY4Via"
      },
      "source": [
        "## predict"
      ]
    },
    {
      "cell_type": "code",
      "execution_count": null,
      "metadata": {
        "id": "bjI1cN9T4Via"
      },
      "outputs": [],
      "source": [
        "!python predict.py \\\n",
        "       --config configs/quick_start/latest.yml \\\n",
        "       --model_path output/best_model/model.pdparams \\\n",
        "       --image_path /content/proj/PaddleSeg/custom_dataset/latest/test_list.txt \\\n",
        "       --save_dir output/result \\\n",
        "       --custom_color 0 0 0 255 255 255\n",
        "\n",
        "!python predict.py \\\n",
        "       --config configs/quick_start/latest.yml \\\n",
        "       --model_path output/best_model/model.pdparams \\\n",
        "       --image_path /content/proj/PaddleSeg/custom_dataset/latest/train_list.txt \\\n",
        "       --save_dir output/result \\\n",
        "       --custom_color 0 0 0 255 255 255\n",
        "\n",
        "!python predict.py \\\n",
        "       --config configs/quick_start/latest.yml \\\n",
        "       --model_path output/best_model/model.pdparams \\\n",
        "       --image_path /content/proj/PaddleSeg/custom_dataset/latest/val_list.txt \\\n",
        "       --save_dir output/result \\\n",
        "       --custom_color 0 0 0 255 255 255"
      ]
    },
    {
      "cell_type": "markdown",
      "metadata": {
        "id": "TA82leYB4Via"
      },
      "source": [
        "## zip train result"
      ]
    },
    {
      "cell_type": "code",
      "execution_count": null,
      "metadata": {
        "id": "XvjGzt0-4Vib"
      },
      "outputs": [],
      "source": [
        "!zip -r train_output.zip /content/proj/PaddleSeg/output"
      ]
    },
    {
      "cell_type": "markdown",
      "metadata": {
        "id": "T-HupsU14Vib"
      },
      "source": [
        "## move .zip to my gdrive"
      ]
    },
    {
      "cell_type": "code",
      "execution_count": null,
      "metadata": {
        "id": "SnkHiHNR4Vib"
      },
      "outputs": [],
      "source": [
        "\n",
        "!mv /content/proj/PaddleSeg/train_output.zip /content/gdrive/MyDrive\n"
      ]
    }
  ],
  "metadata": {
    "accelerator": "GPU",
    "colab": {
      "name": "main.ipynb",
      "provenance": []
    },
    "gpuClass": "standard",
    "kernelspec": {
      "display_name": "Python 3.7.13",
      "language": "python",
      "name": "python3"
    },
    "language_info": {
      "name": "python",
      "version": "3.7.13"
    },
    "orig_nbformat": 4,
    "vscode": {
      "interpreter": {
        "hash": "e5038e1c7e2bbc469a24836e4e46f850f0df614c4b7e67082d0d2981366393c1"
      }
    }
  },
  "nbformat": 4,
  "nbformat_minor": 0
}
